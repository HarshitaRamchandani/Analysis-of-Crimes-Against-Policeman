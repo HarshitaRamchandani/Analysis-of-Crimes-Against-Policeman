{
 "metadata": {
  "language_info": {
   "codemirror_mode": {
    "name": "ipython",
    "version": 3
   },
   "file_extension": ".py",
   "mimetype": "text/x-python",
   "name": "python",
   "nbconvert_exporter": "python",
   "pygments_lexer": "ipython3",
   "version": "3.9.1"
  },
  "orig_nbformat": 4,
  "kernelspec": {
   "name": "python3",
   "display_name": "Python 3.9.1 64-bit"
  },
  "interpreter": {
   "hash": "9c35b3aa4b09e88d78cd1989de03da9047676be26a03a285985ec6da2e9227c1"
  }
 },
 "nbformat": 4,
 "nbformat_minor": 2,
 "cells": [
  {
   "cell_type": "code",
   "execution_count": 1,
   "metadata": {},
   "outputs": [],
   "source": [
    "\n",
    "import pandas as pd\n",
    "from sklearn import model_selection\n",
    "from sklearn import preprocessing\n",
    "from sklearn.metrics import confusion_matrix, accuracy_score, f1_score, precision_score, recall_score\n",
    "from sklearn import tree\n",
    "from sklearn.model_selection import train_test_split\n",
    "from sklearn.ensemble import RandomForestClassifier\n",
    "from sklearn.preprocessing import StandardScaler\n",
    "import matplotlib.pyplot as plt\n"
   ]
  },
  {
   "cell_type": "code",
   "execution_count": 2,
   "metadata": {},
   "outputs": [],
   "source": [
    "police_data = pd.read_csv('13_Police_killed_or_injured_on_duty.csv')"
   ]
  },
  {
   "cell_type": "code",
   "execution_count": 3,
   "metadata": {},
   "outputs": [],
   "source": [
    "police_data.dropna(inplace=True)"
   ]
  },
  {
   "cell_type": "code",
   "execution_count": 4,
   "metadata": {},
   "outputs": [
    {
     "output_type": "execute_result",
     "data": {
      "text/plain": [
       "                   Area_Name  Year                         Group_Name  \\\n",
       "0  Andaman & Nicobar Islands  2001  Police - Assistant Sub-Inspectors   \n",
       "1             Andhra Pradesh  2001  Police - Assistant Sub-Inspectors   \n",
       "2          Arunachal Pradesh  2001  Police - Assistant Sub-Inspectors   \n",
       "3                      Assam  2001  Police - Assistant Sub-Inspectors   \n",
       "4                      Bihar  2001  Police - Assistant Sub-Inspectors   \n",
       "\n",
       "               Sub_Group_Name  Police_Injured_By_Criminals  \\\n",
       "0  3. Assistant Sub-Inspectos                            0   \n",
       "1  3. Assistant Sub-Inspectos                            0   \n",
       "2  3. Assistant Sub-Inspectos                            0   \n",
       "3  3. Assistant Sub-Inspectos                            0   \n",
       "4  3. Assistant Sub-Inspectos                            1   \n",
       "\n",
       "   Police_Injured_By_Riotous_Mobs  Police_Injured_In_Accidents  \\\n",
       "0                               0                            0   \n",
       "1                               3                            4   \n",
       "2                               0                            0   \n",
       "3                               0                            0   \n",
       "4                               0                            0   \n",
       "\n",
       "   Police_Injured_In_Dacoity_OperationsOther_raids  \\\n",
       "0                                                0   \n",
       "1                                                1   \n",
       "2                                                0   \n",
       "3                                                0   \n",
       "4                                                0   \n",
       "\n",
       "   Police_Injured_In_TerroristsExtremists_Operations  \\\n",
       "0                                                  0   \n",
       "1                                                  3   \n",
       "2                                                  0   \n",
       "3                                                  1   \n",
       "4                                                  2   \n",
       "\n",
       "   Police_Injured_On_Border_Duties  Police_Injured_Total_Policemen  \\\n",
       "0                                0                               0   \n",
       "1                                0                              11   \n",
       "2                                0                               0   \n",
       "3                                0                               1   \n",
       "4                                0                               3   \n",
       "\n",
       "   Police_Killed_By_Criminals  Police_Killed_By_Riotous_Mobs  \\\n",
       "0                           0                              0   \n",
       "1                           0                              0   \n",
       "2                           0                              0   \n",
       "3                           0                              0   \n",
       "4                           0                              0   \n",
       "\n",
       "   Police_Killed_In_Accidents  Police_Killed_In_Dacoity_OperationsOther_raids  \\\n",
       "0                           0                                               0   \n",
       "1                           2                                               0   \n",
       "2                           0                                               0   \n",
       "3                           1                                               0   \n",
       "4                           0                                               0   \n",
       "\n",
       "   Police_Killed_In_TerroristsExtremists_Operations  \\\n",
       "0                                                 0   \n",
       "1                                                 3   \n",
       "2                                                 0   \n",
       "3                                                 0   \n",
       "4                                                 2   \n",
       "\n",
       "   Police_Killed_On_Border_Duties  Police_Killed_Total_Policemen  \n",
       "0                               0                              0  \n",
       "1                               0                              5  \n",
       "2                               0                              0  \n",
       "3                               0                              1  \n",
       "4                               0                              2  "
      ],
      "text/html": "<div>\n<style scoped>\n    .dataframe tbody tr th:only-of-type {\n        vertical-align: middle;\n    }\n\n    .dataframe tbody tr th {\n        vertical-align: top;\n    }\n\n    .dataframe thead th {\n        text-align: right;\n    }\n</style>\n<table border=\"1\" class=\"dataframe\">\n  <thead>\n    <tr style=\"text-align: right;\">\n      <th></th>\n      <th>Area_Name</th>\n      <th>Year</th>\n      <th>Group_Name</th>\n      <th>Sub_Group_Name</th>\n      <th>Police_Injured_By_Criminals</th>\n      <th>Police_Injured_By_Riotous_Mobs</th>\n      <th>Police_Injured_In_Accidents</th>\n      <th>Police_Injured_In_Dacoity_OperationsOther_raids</th>\n      <th>Police_Injured_In_TerroristsExtremists_Operations</th>\n      <th>Police_Injured_On_Border_Duties</th>\n      <th>Police_Injured_Total_Policemen</th>\n      <th>Police_Killed_By_Criminals</th>\n      <th>Police_Killed_By_Riotous_Mobs</th>\n      <th>Police_Killed_In_Accidents</th>\n      <th>Police_Killed_In_Dacoity_OperationsOther_raids</th>\n      <th>Police_Killed_In_TerroristsExtremists_Operations</th>\n      <th>Police_Killed_On_Border_Duties</th>\n      <th>Police_Killed_Total_Policemen</th>\n    </tr>\n  </thead>\n  <tbody>\n    <tr>\n      <th>0</th>\n      <td>Andaman &amp; Nicobar Islands</td>\n      <td>2001</td>\n      <td>Police - Assistant Sub-Inspectors</td>\n      <td>3. Assistant Sub-Inspectos</td>\n      <td>0</td>\n      <td>0</td>\n      <td>0</td>\n      <td>0</td>\n      <td>0</td>\n      <td>0</td>\n      <td>0</td>\n      <td>0</td>\n      <td>0</td>\n      <td>0</td>\n      <td>0</td>\n      <td>0</td>\n      <td>0</td>\n      <td>0</td>\n    </tr>\n    <tr>\n      <th>1</th>\n      <td>Andhra Pradesh</td>\n      <td>2001</td>\n      <td>Police - Assistant Sub-Inspectors</td>\n      <td>3. Assistant Sub-Inspectos</td>\n      <td>0</td>\n      <td>3</td>\n      <td>4</td>\n      <td>1</td>\n      <td>3</td>\n      <td>0</td>\n      <td>11</td>\n      <td>0</td>\n      <td>0</td>\n      <td>2</td>\n      <td>0</td>\n      <td>3</td>\n      <td>0</td>\n      <td>5</td>\n    </tr>\n    <tr>\n      <th>2</th>\n      <td>Arunachal Pradesh</td>\n      <td>2001</td>\n      <td>Police - Assistant Sub-Inspectors</td>\n      <td>3. Assistant Sub-Inspectos</td>\n      <td>0</td>\n      <td>0</td>\n      <td>0</td>\n      <td>0</td>\n      <td>0</td>\n      <td>0</td>\n      <td>0</td>\n      <td>0</td>\n      <td>0</td>\n      <td>0</td>\n      <td>0</td>\n      <td>0</td>\n      <td>0</td>\n      <td>0</td>\n    </tr>\n    <tr>\n      <th>3</th>\n      <td>Assam</td>\n      <td>2001</td>\n      <td>Police - Assistant Sub-Inspectors</td>\n      <td>3. Assistant Sub-Inspectos</td>\n      <td>0</td>\n      <td>0</td>\n      <td>0</td>\n      <td>0</td>\n      <td>1</td>\n      <td>0</td>\n      <td>1</td>\n      <td>0</td>\n      <td>0</td>\n      <td>1</td>\n      <td>0</td>\n      <td>0</td>\n      <td>0</td>\n      <td>1</td>\n    </tr>\n    <tr>\n      <th>4</th>\n      <td>Bihar</td>\n      <td>2001</td>\n      <td>Police - Assistant Sub-Inspectors</td>\n      <td>3. Assistant Sub-Inspectos</td>\n      <td>1</td>\n      <td>0</td>\n      <td>0</td>\n      <td>0</td>\n      <td>2</td>\n      <td>0</td>\n      <td>3</td>\n      <td>0</td>\n      <td>0</td>\n      <td>0</td>\n      <td>0</td>\n      <td>2</td>\n      <td>0</td>\n      <td>2</td>\n    </tr>\n  </tbody>\n</table>\n</div>"
     },
     "metadata": {},
     "execution_count": 4
    }
   ],
   "source": [
    "police_data.head()"
   ]
  },
  {
   "cell_type": "code",
   "execution_count": 5,
   "metadata": {},
   "outputs": [
    {
     "output_type": "error",
     "ename": "NameError",
     "evalue": "name 'police_killed' is not defined",
     "traceback": [
      "\u001b[1;31m---------------------------------------------------------------------------\u001b[0m",
      "\u001b[1;31mNameError\u001b[0m                                 Traceback (most recent call last)",
      "\u001b[1;32m<ipython-input-5-d617998dce07>\u001b[0m in \u001b[0;36m<module>\u001b[1;34m\u001b[0m\n\u001b[1;32m----> 1\u001b[1;33m \u001b[0mpolice_data\u001b[0m \u001b[1;33m=\u001b[0m  \u001b[0mpolice_killed\u001b[0m\u001b[1;33m[\u001b[0m\u001b[0mpolice_killed\u001b[0m\u001b[1;33m[\u001b[0m\u001b[1;34m'Group_Name'\u001b[0m\u001b[1;33m]\u001b[0m \u001b[1;33m!=\u001b[0m \u001b[1;34m'Police - Total'\u001b[0m\u001b[1;33m]\u001b[0m\u001b[1;33m\u001b[0m\u001b[1;33m\u001b[0m\u001b[0m\n\u001b[0m",
      "\u001b[1;31mNameError\u001b[0m: name 'police_killed' is not defined"
     ]
    }
   ],
   "source": [
    "police_data =  police_killed[police_killed['Group_Name'] != 'Police - Total']"
   ]
  },
  {
   "cell_type": "code",
   "execution_count": 152,
   "metadata": {},
   "outputs": [],
   "source": [
    "police_data['Area_Name'] = pd.factorize(police_killed['Area_Name'])[0]\n",
    "police_data['Year'] = pd.factorize(police_killed['Year'])[0]\n",
    "police_data['Group_Name'] = pd.factorize(police_killed['Group_Name'])[0]\n"
   ]
  },
  {
   "cell_type": "code",
   "execution_count": 153,
   "metadata": {},
   "outputs": [],
   "source": [
    "X = police_data.iloc[:, [0, 1, 2, 4, 6, 7, 8, 9, 10]].values\n",
    "y = police_data['Area_Name']"
   ]
  },
  {
   "cell_type": "code",
   "execution_count": 154,
   "metadata": {},
   "outputs": [
    {
     "output_type": "stream",
     "name": "stdout",
     "text": [
      "For Random Forest Classifier\nAccuracy Score 0.8404761904761905\nF1 Score 0.8392290913907728\nRecall Score 0.8404761904761905\nPrecision Score 0.8582629011200439\n"
     ]
    }
   ],
   "source": [
    "X_train, X_test, y_train, y_test = train_test_split(X, y, test_size=0.2)\n",
    "\n",
    "scalar = StandardScaler()\n",
    "scalar.fit(X_train)\n",
    "X_train = scalar.transform(X_train)\n",
    "X_test = scalar.transform(X_test)\n",
    "\n",
    "classifier = RandomForestClassifier(n_jobs=5, random_state=1000)\n",
    "cls_tree = classifier.fit(X_train, y_train)\n",
    "y_pred = classifier.predict(X_test)\n",
    "print(\"For Random Forest Classifier\")\n",
    "print(\"Accuracy Score\", accuracy_score(y_test, y_pred))\n",
    "print(\"F1 Score\", f1_score(y_test, y_pred, average='weighted'))\n",
    "print(\"Recall Score\", recall_score(y_test, y_pred, average='weighted'))\n",
    "print(\"Precision Score\", precision_score(y_test, y_pred, average='weighted'))"
   ]
  },
  {
   "cell_type": "code",
   "execution_count": 155,
   "metadata": {},
   "outputs": [],
   "source": [
    "from sklearn.tree import DecisionTreeClassifier\n",
    "import numpy as np"
   ]
  },
  {
   "cell_type": "code",
   "execution_count": 156,
   "metadata": {},
   "outputs": [
    {
     "output_type": "stream",
     "name": "stdout",
     "text": [
      "For Decision Tree Classifier\nAccuracy Score 0.8809523809523809\nF1 Score 0.8463962976494945\nRecall Score 0.8809523809523809\nPrecision Score 0.9446158301158301\n"
     ]
    }
   ],
   "source": [
    "clf_entropy = DecisionTreeClassifier(criterion=\"entropy\", random_state=0, max_depth=5.9, min_samples_leaf=5)\n",
    "clf_entropy.fit(X_train, y_train)\n",
    "\n",
    "clf_tree = clf_entropy.fit(X_train, y_train)\n",
    "\n",
    "y_pred = clf_entropy.predict(X_test)\n",
    "print(\"For Decision Tree Classifier\")\n",
    "print(\"Accuracy Score\", accuracy_score(y_test, y_pred))\n",
    "print(\"F1 Score\", f1_score(y_test, y_pred, average='weighted'))\n",
    "print(\"Recall Score\", recall_score(y_test, y_pred, average='weighted'))\n",
    "print(\"Precision Score\", precision_score(y_test, y_pred, average='weighted', labels=np.unique(y_pred)))"
   ]
  },
  {
   "cell_type": "code",
   "execution_count": 157,
   "metadata": {},
   "outputs": [],
   "source": [
    "from sklearn.neighbors import KNeighborsClassifier"
   ]
  },
  {
   "cell_type": "code",
   "execution_count": 158,
   "metadata": {},
   "outputs": [
    {
     "output_type": "stream",
     "name": "stdout",
     "text": [
      "For KNN Classifier\nAccuracy Score 0.23095238095238096\nF1 Score 0.23627354767764788\nRecall Score 0.23095238095238096\nPrecision Score 0.282794660635391\n"
     ]
    }
   ],
   "source": [
    "clf_entropy = KNeighborsClassifier(n_neighbors=5)\n",
    "clf_entropy.fit(X_train, y_train)\n",
    "\n",
    "clf_tree = clf_entropy.fit(X_train, y_train)\n",
    "\n",
    "y_pred = clf_entropy.predict(X_test)\n",
    "\n",
    "print(\"For KNN Classifier\")\n",
    "print(\"Accuracy Score\", accuracy_score(y_test, y_pred))\n",
    "print(\"F1 Score\", f1_score(y_test, y_pred, average='weighted'))\n",
    "print(\"Recall Score\", recall_score(y_test, y_pred, average='weighted'))\n",
    "print(\"Precision Score\", precision_score(y_test, y_pred, average='weighted'))"
   ]
  },
  {
   "cell_type": "code",
   "execution_count": null,
   "metadata": {},
   "outputs": [],
   "source": []
  }
 ]
}